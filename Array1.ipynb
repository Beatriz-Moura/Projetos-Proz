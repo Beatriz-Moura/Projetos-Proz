{
  "nbformat": 4,
  "nbformat_minor": 0,
  "metadata": {
    "colab": {
      "provenance": [],
      "authorship_tag": "ABX9TyNvoOO6GYk8tpo+QW/Mnwhb",
      "include_colab_link": true
    },
    "kernelspec": {
      "name": "python3",
      "display_name": "Python 3"
    },
    "language_info": {
      "name": "python"
    }
  },
  "cells": [
    {
      "cell_type": "markdown",
      "metadata": {
        "id": "view-in-github",
        "colab_type": "text"
      },
      "source": [
        "<a href=\"https://colab.research.google.com/github/Beatriz-Moura/Projetos-Proz/blob/main/Array1.ipynb\" target=\"_parent\"><img src=\"https://colab.research.google.com/assets/colab-badge.svg\" alt=\"Open In Colab\"/></a>"
      ]
    },
    {
      "cell_type": "markdown",
      "source": [
        "# **Array**"
      ],
      "metadata": {
        "id": "s3wvlQ7T7Rjs"
      }
    },
    {
      "cell_type": "code",
      "source": [
        "LojaDeBrinquedos = [\"boneca\", 'carrinho de controle remoto', 'boliche', 'videogame', 'casa de boneca']\n",
        "AnoDeNascimento = [1964, 1970, 1994, 2015, 2020]\n",
        "\n",
        "print(LojaDeBrinquedos)\n",
        "\n",
        "print(AnoDeNascimento)"
      ],
      "metadata": {
        "colab": {
          "base_uri": "https://localhost:8080/"
        },
        "id": "U3sMNLzK7XoP",
        "outputId": "c56fced5-7a48-4ea4-9873-41e1bd414810"
      },
      "execution_count": 2,
      "outputs": [
        {
          "output_type": "stream",
          "name": "stdout",
          "text": [
            "['boneca', 'carrinho de controle remoto', 'boliche', 'videogame', 'casa de boneca']\n",
            "[1964, 1970, 1994, 2015, 2020]\n"
          ]
        }
      ]
    }
  ]
}