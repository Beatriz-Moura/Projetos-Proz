{
  "nbformat": 4,
  "nbformat_minor": 0,
  "metadata": {
    "colab": {
      "provenance": [],
      "authorship_tag": "ABX9TyP1l4oAE0IhTYxwscy26MjE",
      "include_colab_link": true
    },
    "kernelspec": {
      "name": "python3",
      "display_name": "Python 3"
    },
    "language_info": {
      "name": "python"
    }
  },
  "cells": [
    {
      "cell_type": "markdown",
      "metadata": {
        "id": "view-in-github",
        "colab_type": "text"
      },
      "source": [
        "<a href=\"https://colab.research.google.com/github/Beatriz-Moura/Projetos-Proz/blob/main/Aula06.ipynb\" target=\"_parent\"><img src=\"https://colab.research.google.com/assets/colab-badge.svg\" alt=\"Open In Colab\"/></a>"
      ]
    },
    {
      "cell_type": "markdown",
      "source": [
        "Revisao de tudo que vimos"
      ],
      "metadata": {
        "id": "YmbKelVJOEaW"
      }
    },
    {
      "cell_type": "markdown",
      "source": [
        "# Nova seção"
      ],
      "metadata": {
        "id": "pPD6KWT6klcV"
      }
    },
    {
      "cell_type": "code",
      "source": [
        "indicador = True\n",
        "while (indicador == True ):\n",
        "  try:\n",
        "    mostrarNumero = int(input(\"Digite um numero ate 100: \"))\n",
        "    if (mostrarNumero > 100):\n",
        "      print(\"Numero inserido maior que 100, digite novamente \")\n",
        "    else:\n",
        "      print(\"Numero Valido \")\n",
        "      indicador = False\n",
        "  except:\n",
        "    print(\"Numero digitado invalido, por favor digite novamente\")\n",
        "\n",
        "\n"
      ],
      "metadata": {
        "colab": {
          "base_uri": "https://localhost:8080/"
        },
        "id": "WDLKPiyuOy_M",
        "outputId": "26fdf9e4-524b-411c-8c37-8d2e0f3740f1"
      },
      "execution_count": null,
      "outputs": [
        {
          "output_type": "stream",
          "name": "stdout",
          "text": [
            "Digite um numero ate 100: 200\n",
            "Numero inserido maior que 100, digite novamente \n",
            "Digite um numero ate 100: Bia\n",
            "Numero digitado invalido, por favor digite novamente\n",
            "Digite um numero ate 100: 35\n",
            "Numero Valido \n"
          ]
        }
      ]
    },
    {
      "cell_type": "code",
      "source": [
        "indicador = True\n",
        "while (indicador == True):\n",
        "  try:\n",
        "    mostrarNumero = int(input(\"Digite um numero par: \"))\n",
        "    par = mostrarNumero%2\n",
        "    if (par == 0):\n",
        "      print(\"Numero par inserido corretamente \")\n",
        "      indicador = False\n",
        "    else:\n",
        "      print(\"Numero impar inserido, por favor digite um numero par\" )\n",
        "  except:\n",
        "    print(\"Por favor digite apenas numeros pares, caractere invalido \")"
      ],
      "metadata": {
        "colab": {
          "base_uri": "https://localhost:8080/"
        },
        "id": "kogoxws6dBBS",
        "outputId": "adcf7f5d-278f-40b7-ca63-2266f4828380"
      },
      "execution_count": null,
      "outputs": [
        {
          "output_type": "stream",
          "name": "stdout",
          "text": [
            "Digite um numero par: 5\n",
            "Numero impar inserido, por favor digite um numero par\n",
            "Digite um numero par: Batata\n",
            "Por favor digite apenas numeros pares, caractere invalido \n",
            "Digite um numero par: 6\n",
            "Numero par inserido corretamente \n"
          ]
        }
      ]
    },
    {
      "cell_type": "code",
      "source": [
        "indicador = True\n",
        "while (indicador == True):\n",
        "  try:\n",
        "    mostrarNumero = int(input(\"Digite um numero divisivel por 2 e 3 ao mesmo tempo: \"))\n",
        "    numeropor2 = mostrarNumero%2\n",
        "    numeropor3 = mostrarNumero%3\n",
        "    if (numeropor2 == 0 and numeropor3 == 0):\n",
        "      print(\"Numero valido \")\n",
        "      indicador = False\n",
        "    elif (numeropor2 != 0 and numeropor3 != 0):\n",
        "      print(\"Numero digitado nao e divisivel por 2 nem por 3, digite novamente \")\n",
        "    elif (numeropor2 != 0):\n",
        "      print(\"Numero digitado nao e divisivel por 2, digite novamente \")\n",
        "    else:\n",
        "      print(\"Numero digitado nao e divisivel por 3, digite novamente \")\n",
        "  except:\n",
        "    print(\"Caractere invalido, digite novamente \")\n"
      ],
      "metadata": {
        "colab": {
          "base_uri": "https://localhost:8080/"
        },
        "id": "fUfnfQgDfQkH",
        "outputId": "3716cd52-cc19-4a9c-a613-492b8304ce4e"
      },
      "execution_count": null,
      "outputs": [
        {
          "output_type": "stream",
          "name": "stdout",
          "text": [
            "Digite um numero divisivel por 2 e 3 ao mesmo tempo: 7\n",
            "Numero digitado nao e divisivel por 2 nem por 3, digite novamente \n",
            "Digite um numero divisivel por 2 e 3 ao mesmo tempo: 8\n",
            "Numero digitado nao e divisivel por 3, digite novamente \n",
            "Digite um numero divisivel por 2 e 3 ao mesmo tempo: 9\n",
            "Numero digitado nao e divisivel por 2, digite novamente \n",
            "Digite um numero divisivel por 2 e 3 ao mesmo tempo: Batata\n",
            "Caractere invalido, digite novamente \n",
            "Digite um numero divisivel por 2 e 3 ao mesmo tempo: 6\n",
            "Numero valido \n"
          ]
        }
      ]
    },
    {
      "cell_type": "code",
      "source": [],
      "metadata": {
        "id": "dqpM3PDckeit"
      },
      "execution_count": null,
      "outputs": []
    },
    {
      "cell_type": "markdown",
      "source": [],
      "metadata": {
        "id": "IMIYHqoUdRWE"
      }
    }
  ]
}