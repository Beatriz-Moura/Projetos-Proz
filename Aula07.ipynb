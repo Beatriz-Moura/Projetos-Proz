{
  "cells": [
    {
      "cell_type": "markdown",
      "metadata": {
        "id": "view-in-github",
        "colab_type": "text"
      },
      "source": [
        "<a href=\"https://colab.research.google.com/github/Beatriz-Moura/Projetos-Proz/blob/main/Aula07.ipynb\" target=\"_parent\"><img src=\"https://colab.research.google.com/assets/colab-badge.svg\" alt=\"Open In Colab\"/></a>"
      ]
    },
    {
      "cell_type": "code",
      "execution_count": 6,
      "metadata": {
        "colab": {
          "base_uri": "https://localhost:8080/"
        },
        "id": "t6sZ8f3SzCqX",
        "outputId": "261113fd-7ebc-4e31-aec0-20b1304629e5"
      },
      "outputs": [
        {
          "output_type": "stream",
          "name": "stdout",
          "text": [
            "Digite um nome: Kaue\n",
            "Nao achei o nome Kaue\n"
          ]
        }
      ],
      "source": [
        "nomes = ['Beatriz', 'João', 'Maria', 'Fernanda','Gustavo']\n",
        "def acharNome(nomeArray):\n",
        "  nome = input('Digite um nome: ')\n",
        "  for i in range(len(nomeArray)):\n",
        "    if(nomeArray[i] == nome):\n",
        "      print('O nome achado é', nome)\n",
        "\n",
        "  print('Nao achei o nome', nome)\n",
        "\n",
        "\n",
        "acharNome(nomes)\n",
        "\n",
        "\n"
      ]
    }
  ],
  "metadata": {
    "colab": {
      "provenance": [],
      "authorship_tag": "ABX9TyN/DkGOtdWLv0Nv87KH3DwH",
      "include_colab_link": true
    },
    "kernelspec": {
      "display_name": "Python 3",
      "name": "python3"
    },
    "language_info": {
      "name": "python"
    }
  },
  "nbformat": 4,
  "nbformat_minor": 0
}