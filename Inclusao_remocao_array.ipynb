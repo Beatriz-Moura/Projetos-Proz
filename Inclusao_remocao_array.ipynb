{
  "nbformat": 4,
  "nbformat_minor": 0,
  "metadata": {
    "colab": {
      "provenance": [],
      "authorship_tag": "ABX9TyPjzxzwuXWNhhl0vqWYt+AG",
      "include_colab_link": true
    },
    "kernelspec": {
      "name": "python3",
      "display_name": "Python 3"
    },
    "language_info": {
      "name": "python"
    }
  },
  "cells": [
    {
      "cell_type": "markdown",
      "metadata": {
        "id": "view-in-github",
        "colab_type": "text"
      },
      "source": [
        "<a href=\"https://colab.research.google.com/github/Beatriz-Moura/Projetos-Proz/blob/main/Inclusao_remocao_array.ipynb\" target=\"_parent\"><img src=\"https://colab.research.google.com/assets/colab-badge.svg\" alt=\"Open In Colab\"/></a>"
      ]
    },
    {
      "cell_type": "markdown",
      "source": [
        "# **Inclusão e remoçao de itens num array**"
      ],
      "metadata": {
        "id": "Z-T5g_mJog7Q"
      }
    },
    {
      "cell_type": "code",
      "source": [
        "#Agora, eles estão vendendo rímel ao invés de batons, e cremes hidratantes no lugar de loções.\n",
        "#Além disso, ficaram sem delineadores, então precisam que você remova ele da lista de produtos.\n",
        "#Imprima a nova lista no terminal para verificar que as alterações foram realizadas corretamente.\n",
        "\n",
        "lista_produtos = ['máscaras faciais', 'batons', 'esmaltes', 'perfumes', 'loções', 'xampus', 'sabonetes', 'delineadores']\n",
        "\n",
        "lista_produtos[1], lista_produtos[4] = 'rimel', 'creme hidratante'\n",
        "lista_produtos.pop()\n",
        "print(lista_produtos)\n",
        "\n",
        "#desafio: acrescentar dois produtos a lista\n",
        "\n",
        "lista_produtos.append('po compacto')\n",
        "lista_produtos.append('base')\n",
        "print(lista_produtos)"
      ],
      "metadata": {
        "colab": {
          "base_uri": "https://localhost:8080/"
        },
        "id": "Nzlcu_3RopPQ",
        "outputId": "24e6da81-8de6-42e4-b296-8e336ec20004"
      },
      "execution_count": 4,
      "outputs": [
        {
          "output_type": "stream",
          "name": "stdout",
          "text": [
            "['máscaras faciais', 'rimel', 'esmaltes', 'perfumes', 'creme hidratante', 'xampus', 'sabonetes']\n",
            "['máscaras faciais', 'rimel', 'esmaltes', 'perfumes', 'creme hidratante', 'xampus', 'sabonetes', 'po compacto', 'base']\n"
          ]
        }
      ]
    }
  ]
}