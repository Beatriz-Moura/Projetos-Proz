{
  "nbformat": 4,
  "nbformat_minor": 0,
  "metadata": {
    "colab": {
      "provenance": [],
      "authorship_tag": "ABX9TyMbR9mKRiSSNQuEudejkLKW",
      "include_colab_link": true
    },
    "kernelspec": {
      "name": "python3",
      "display_name": "Python 3"
    },
    "language_info": {
      "name": "python"
    }
  },
  "cells": [
    {
      "cell_type": "markdown",
      "metadata": {
        "id": "view-in-github",
        "colab_type": "text"
      },
      "source": [
        "<a href=\"https://colab.research.google.com/github/Beatriz-Moura/Projetos-Proz/blob/main/Percorrer_array.ipynb\" target=\"_parent\"><img src=\"https://colab.research.google.com/assets/colab-badge.svg\" alt=\"Open In Colab\"/></a>"
      ]
    },
    {
      "cell_type": "markdown",
      "source": [
        "# **Percorrer Array**"
      ],
      "metadata": {
        "id": "BKOo7qBDbeB-"
      }
    },
    {
      "cell_type": "code",
      "source": [
        "lista_produtos = ['máscaras faciais', 'batons', 'esmaltes', 'perfumes', 'loções', 'xampus', 'sabonetes', 'delineadores']\n",
        "\n",
        "for i in range(len(lista_produtos)):\n",
        "  print('Temos', lista_produtos[i], 'a venda')"
      ],
      "metadata": {
        "colab": {
          "base_uri": "https://localhost:8080/"
        },
        "id": "OYpDuTE8bgeX",
        "outputId": "4ac14218-9dd4-4b6f-f88c-67383ba35ccd"
      },
      "execution_count": 2,
      "outputs": [
        {
          "output_type": "stream",
          "name": "stdout",
          "text": [
            "Temos máscaras faciais a venda\n",
            "Temos batons a venda\n",
            "Temos esmaltes a venda\n",
            "Temos perfumes a venda\n",
            "Temos loções a venda\n",
            "Temos xampus a venda\n",
            "Temos sabonetes a venda\n",
            "Temos delineadores a venda\n"
          ]
        }
      ]
    }
  ]
}