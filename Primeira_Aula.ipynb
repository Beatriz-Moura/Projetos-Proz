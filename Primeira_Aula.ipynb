{
  "nbformat": 4,
  "nbformat_minor": 0,
  "metadata": {
    "colab": {
      "provenance": [],
      "authorship_tag": "ABX9TyMhnktVb3mz4PQ6AW4GRDPW",
      "include_colab_link": true
    },
    "kernelspec": {
      "name": "python3",
      "display_name": "Python 3"
    },
    "language_info": {
      "name": "python"
    }
  },
  "cells": [
    {
      "cell_type": "markdown",
      "metadata": {
        "id": "view-in-github",
        "colab_type": "text"
      },
      "source": [
        "<a href=\"https://colab.research.google.com/github/Beatriz-Moura/Projetos-Proz/blob/main/Primeira_Aula.ipynb\" target=\"_parent\"><img src=\"https://colab.research.google.com/assets/colab-badge.svg\" alt=\"Open In Colab\"/></a>"
      ]
    },
    {
      "cell_type": "code",
      "execution_count": null,
      "metadata": {
        "id": "bf6Rvx7Gp8io",
        "colab": {
          "base_uri": "https://localhost:8080/"
        },
        "outputId": "b81a2607-7f86-4051-c32f-92b13f79a14e"
      },
      "outputs": [
        {
          "output_type": "stream",
          "name": "stdout",
          "text": [
            "Este é um tipo\n",
            "<class 'int'>\n",
            "Este é um tipo\n",
            "<class 'float'>\n",
            "Este é um tipo\n",
            "<class 'str'>\n"
          ]
        }
      ],
      "source": [
        "numero_inteiro = 5\n",
        "numero_float = 5.7\n",
        "texto = \"este é um texto\"\n",
        "\n",
        "\n",
        "print(\"Este é um tipo\")\n",
        "print(type(numero_inteiro))\n",
        "print(\"Este é um tipo\")\n",
        "print(type(numero_float))\n",
        "print(\"Este é um tipo\")\n",
        "print(type(texto))"
      ]
    },
    {
      "cell_type": "code",
      "source": [
        "var = 6\n",
        "\n",
        "print(\"Esta é a primeira aparição da variável\")\n",
        "print(var)\n",
        "printrintprint(\"Esta é a segunda aparição da variável\")\n",
        "print(var)\n",
        "print(\"Esta é a terceira aparição da variável\")\n",
        "print(var)\n",
        "print(\"Esta é a quarta aparição da variável\")\n",
        "print(var)\n",
        "print(\"E você só definiu o valor uma única vez\")"
      ],
      "metadata": {
        "colab": {
          "base_uri": "https://localhost:8080/"
        },
        "id": "lq-OhSkwILRW",
        "outputId": "66fe9637-c0db-40e3-b548-960d0bcb06c6"
      },
      "execution_count": null,
      "outputs": [
        {
          "output_type": "stream",
          "name": "stdout",
          "text": [
            "Esta é a primeira aparição da variável\n",
            "6\n",
            "Esta é a segunda aparição da variável\n",
            "6\n",
            "Esta é a terceira aparição da variável\n",
            "6\n",
            "Esta é a quarta aparição da variável\n",
            "6\n",
            "E você só definiu o valor uma única vez\n"
          ]
        }
      ]
    },
    {
      "cell_type": "code",
      "source": [
        "roda = int(input(\"Quantas rodas o veículo possui?\"))\n",
        "pessoa = int(input(\"Quantas lugares existem no veículo?\"))\n",
        "resultado = roda + pessoa\n",
        "print(\"O resultado é: \", resultado)"
      ],
      "metadata": {
        "colab": {
          "base_uri": "https://localhost:8080/"
        },
        "id": "q2Mw7yHXXN9m",
        "outputId": "2413d8a6-460b-44c5-d34d-e6468f8d9f19"
      },
      "execution_count": null,
      "outputs": [
        {
          "output_type": "stream",
          "name": "stdout",
          "text": [
            "Quantas rodas o veículo possui?4\n",
            "Quantas lugares existem no veículo?6\n",
            "O resultado é:  10\n"
          ]
        }
      ]
    },
    {
      "cell_type": "code",
      "source": [
        "roda = int(input(\"Quantas rodas o veículo possui?\"))\n",
        "assentos = int(input(\"Quantos assentos o veiculo possui?\"))\n",
        "peso = int(input(\"Quantos quilos o veículo pesa?\"))\n",
        "if(roda<=3):\n",
        "  print(\"Carteira de Habilitação Tipo A\")\n",
        "elif(roda==4) and (peso<=3500) and (assentos<=8):\n",
        "  print(\"Carteira de Habilitação Tipo B\")\n",
        "elif(roda>=4) and (peso>=3500) and (peso<=6000):\n",
        "  print(\"Carteira de Habilitação Tipo C\")\n",
        "elif(roda>=4) and (assentos>8):\n",
        "  print(\"Carteira de Habilitação Tipo \")\n",
        "elif(roda>=4) and (peso>6000):\n",
        "  print(\"Carteira de Habilitação Tipo E\")\n",
        "else :\n",
        "  print(\"Dados informados incorretos por favor repita a operação  \")"
      ],
      "metadata": {
        "id": "aq5mJmeDYuUO",
        "colab": {
          "base_uri": "https://localhost:8080/"
        },
        "outputId": "3471c1da-7d69-47b6-d9af-9efab752c3cf"
      },
      "execution_count": null,
      "outputs": [
        {
          "output_type": "stream",
          "name": "stdout",
          "text": [
            "Quantas rodas o veículo possui?4\n",
            "Quantos assentos o veiculo possui?4\n",
            "Quantos quilos o veículo pesa?3000\n",
            "Carteira de Habilitação Tipo B\n"
          ]
        }
      ]
    }
  ]
}