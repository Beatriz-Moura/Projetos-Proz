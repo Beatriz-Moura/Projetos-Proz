{
  "nbformat": 4,
  "nbformat_minor": 0,
  "metadata": {
    "colab": {
      "provenance": [],
      "authorship_tag": "ABX9TyNA82MNj3MESSmAx83dg5CL",
      "include_colab_link": true
    },
    "kernelspec": {
      "name": "python3",
      "display_name": "Python 3"
    },
    "language_info": {
      "name": "python"
    }
  },
  "cells": [
    {
      "cell_type": "markdown",
      "metadata": {
        "id": "view-in-github",
        "colab_type": "text"
      },
      "source": [
        "<a href=\"https://colab.research.google.com/github/Beatriz-Moura/Projetos-Proz/blob/main/Projeto_try_exception.ipynb\" target=\"_parent\"><img src=\"https://colab.research.google.com/assets/colab-badge.svg\" alt=\"Open In Colab\"/></a>"
      ]
    },
    {
      "cell_type": "code",
      "execution_count": null,
      "metadata": {
        "id": "PmHtnDGz6mwH"
      },
      "outputs": [],
      "source": [
        "def idade (ano1):\n",
        "    return 2022 - ano1\n",
        "\n",
        "try:\n",
        "  print(\"digite o seu nome completo: \")\n",
        "  nome = input()\n",
        "  print(\"digite o ano em que voce nasceu: \")\n",
        "  ano = int(input())\n",
        "\n",
        "  while (ano>2021):\n",
        "    print('Por favor digite um ano menor que 2021')\n",
        "    ano = int(input())\n",
        "  while (ano<1922):\n",
        "    print(\"Por favor digite um ano maior que 1922\")\n",
        "    ano = int(input())\n",
        "\n",
        "  print(\"seu nome é \", nome)\n",
        "  print(\"sua idade é \", idade(ano))\n",
        "except ValueError:\n",
        "  print('Por favor digite um caractere valido')\n",
        "\n",
        "ano = int(input())\n",
        "print(\"seu nome é \", nome)\n",
        "print(\"sua idade é \", idade(ano))\n"
      ]
    },
    {
      "cell_type": "code",
      "source": [],
      "metadata": {
        "id": "an6HwWrw-Z5E"
      },
      "execution_count": null,
      "outputs": []
    }
  ]
}