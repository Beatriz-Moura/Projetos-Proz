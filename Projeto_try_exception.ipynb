{
  "nbformat": 4,
  "nbformat_minor": 0,
  "metadata": {
    "colab": {
      "provenance": [],
      "authorship_tag": "ABX9TyNA82MNj3MESSmAx83dg5CL",
      "include_colab_link": true
    },
    "kernelspec": {
      "name": "python3",
      "display_name": "Python 3"
    },
    "language_info": {
      "name": "python"
    }
  },
  "cells": [
    {
      "cell_type": "markdown",
      "metadata": {
        "id": "view-in-github",
        "colab_type": "text"
      },
      "source": [
        "<a href=\"https://colab.research.google.com/github/Beatriz-Moura/Projetos-Proz/blob/main/Projeto_try_exception.ipynb\" target=\"_parent\"><img src=\"https://colab.research.google.com/assets/colab-badge.svg\" alt=\"Open In Colab\"/></a>"
      ]
    },
    {
      "cell_type": "code",
      "execution_count": 17,
      "metadata": {
        "colab": {
          "base_uri": "https://localhost:8080/"
        },
        "id": "PmHtnDGz6mwH",
        "outputId": "71c5769b-f492-4afa-efd3-5e15eed16da2"
      },
      "outputs": [
        {
          "output_type": "stream",
          "name": "stdout",
          "text": [
            "digite o seu nome completo: \n",
            "bia\n",
            "digite o ano em que voce nasceu: \n",
            "bia\n",
            "Por favor digite um caractere valido\n",
            "2021\n",
            "seu nome é  bia\n",
            "sua idade é  1\n"
          ]
        }
      ],
      "source": [
        "def idade (ano1):\n",
        "    return 2022 - ano1\n",
        "\n",
        "try:\n",
        "  print(\"digite o seu nome completo: \")\n",
        "  nome = input()\n",
        "  print(\"digite o ano em que voce nasceu: \")\n",
        "  ano = int(input())\n",
        "\n",
        "  while (ano>2021):\n",
        "    print('Por favor digite um ano menor que 2021')\n",
        "    ano = int(input())\n",
        "  while (ano<1922):\n",
        "    print(\"Por favor digite um ano maior que 1922\")\n",
        "    ano = int(input())\n",
        "\n",
        "  print(\"seu nome é \", nome)\n",
        "  print(\"sua idade é \", idade(ano))\n",
        "except ValueError:\n",
        "  print('Por favor digite um caractere valido')\n",
        "\n",
        "ano = int(input())\n",
        "print(\"seu nome é \", nome)\n",
        "print(\"sua idade é \", idade(ano))\n"
      ]
    },
    {
      "cell_type": "code",
      "source": [],
      "metadata": {
        "id": "an6HwWrw-Z5E"
      },
      "execution_count": null,
      "outputs": []
    }
  ]
}